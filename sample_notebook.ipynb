{
 "cells": [
  {
   "cell_type": "code",
   "execution_count": 3,
   "metadata": {},
   "outputs": [
    {
     "data": {
      "text/plain": [
       "17.28868"
      ]
     },
     "execution_count": 3,
     "metadata": {},
     "output_type": "execute_result"
    }
   ],
   "source": [
    "import pandas as pd\n",
    "import re\n",
    "df = pd.read_excel('Energy Indicators.xls', sheetname='Energy',skiprows=17)\n",
    "df=df.drop(df.columns[0:2],axis=1)\n",
    "\n",
    "df.columns=['Country', 'Energy Supply', 'Energy Supply per Capita', '% Renewable']\n",
    "df['Energy Supply'] = df['Energy Supply'] * 1000000\n",
    "df['Country'] = df['Country'].str.replace('Republic of Korea','South Korea')\n",
    "df['Country'] = df['Country'].str.replace('United States of America','United States')\n",
    "df['Country'] = df['Country'].str.replace('United Kingdom of Great Britain and Northern Ireland','United Kingdom')\n",
    "df['Country'] = df['Country'].str.replace('China, Hong Kong Special Administrative Region','Hong Kong')\n",
    "df=df[0:226]\n",
    "df['Country'] = df['Country'].str.replace(r\" ?\\([^)]+\\)\", \"\")\n",
    "df['Country'] = df['Country'].str.replace(\"\\d+\", \"\",)\n",
    "\n",
    "\n",
    "gdp=pd.read_csv('world_bank.csv',skiprows=4)\n",
    "gdp['Country Name'].str.replace('Korea, Rep.','South Korea')\n",
    "gdp['Country Name'].str.replace('Iran, Islamic Rep.','Iran')\n",
    "gdp['Country Name'].str.replace('Hong Kong SAR, China','Hong Kong')\n",
    "gdp = gdp[['Country Name','2006','2007','2008','2009','2010','2011','2012','2013','2014','2015']]\n",
    "gdp.columns = ['Country','2006','2007','2008','2009','2010','2011','2012','2013','2014','2015']\n",
    "\n",
    "ScimEn = pd.read_excel(io='scimagojr-3.xlsx')\n",
    "ScimEn_m = ScimEn[:15]\n",
    "\n",
    "df_res = pd.merge(ScimEn_m,df,how='inner',left_on='Country',right_on='Country')\n",
    "final_df = pd.merge(df_res,gdp,how='inner',left_on='Country',right_on='Country')\n",
    "final_df = final_df.set_index('Country')\n",
    "Top15=final_df\n",
    "Top15['% Renewable'].median()\n",
    "\n",
    "\n",
    " "
   ]
  },
  {
   "cell_type": "code",
   "execution_count": null,
   "metadata": {
    "collapsed": true
   },
   "outputs": [],
   "source": []
  },
  {
   "cell_type": "code",
   "execution_count": null,
   "metadata": {
    "collapsed": true
   },
   "outputs": [],
   "source": []
  }
 ],
 "metadata": {
  "kernelspec": {
   "display_name": "Python 3",
   "language": "python",
   "name": "python3"
  },
  "language_info": {
   "codemirror_mode": {
    "name": "ipython",
    "version": 3
   },
   "file_extension": ".py",
   "mimetype": "text/x-python",
   "name": "python",
   "nbconvert_exporter": "python",
   "pygments_lexer": "ipython3",
   "version": "3.6.0"
  }
 },
 "nbformat": 4,
 "nbformat_minor": 1
}
